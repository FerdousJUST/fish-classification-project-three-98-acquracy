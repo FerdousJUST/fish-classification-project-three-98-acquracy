{
  "nbformat": 4,
  "nbformat_minor": 0,
  "metadata": {
    "colab": {
      "provenance": [],
      "mount_file_id": "1Y2kik4RT3gy-e2Y9AId4Kltn8U9ssDTj",
      "authorship_tag": "ABX9TyN/VgnN62Ez7eCADPoZ9ONh",
      "include_colab_link": true
    },
    "kernelspec": {
      "name": "python3",
      "display_name": "Python 3"
    },
    "language_info": {
      "name": "python"
    },
    "accelerator": "GPU",
    "gpuClass": "standard"
  },
  "cells": [
    {
      "cell_type": "markdown",
      "metadata": {
        "id": "view-in-github",
        "colab_type": "text"
      },
      "source": [
        "<a href=\"https://colab.research.google.com/github/FerdousJUST/fish-classification-project-three-98-acquracy/blob/main/Fish_Classification_Project_Three.ipynb\" target=\"_parent\"><img src=\"https://colab.research.google.com/assets/colab-badge.svg\" alt=\"Open In Colab\"/></a>"
      ]
    },
    {
      "cell_type": "code",
      "execution_count": 21,
      "metadata": {
        "id": "fCaK7Ssi_OVX"
      },
      "outputs": [],
      "source": [
        "import os\n",
        "import numpy as np\n",
        "import pandas as pd\n",
        "import matplotlib.pyplot as plt\n",
        "import cv2\n",
        "import imageio\n",
        "import pathlib\n",
        "%matplotlib inline"
      ]
    },
    {
      "cell_type": "code",
      "source": [
        "import tensorflow as tf\n",
        "tf.test.gpu_device_name()"
      ],
      "metadata": {
        "colab": {
          "base_uri": "https://localhost:8080/",
          "height": 35
        },
        "id": "X04ChZZABOdf",
        "outputId": "8dee8fab-4ab7-44d0-b47b-c087220ee610"
      },
      "execution_count": 22,
      "outputs": [
        {
          "output_type": "execute_result",
          "data": {
            "text/plain": [
              "'/device:GPU:0'"
            ],
            "application/vnd.google.colaboratory.intrinsic+json": {
              "type": "string"
            }
          },
          "metadata": {},
          "execution_count": 22
        }
      ]
    },
    {
      "cell_type": "code",
      "source": [
        "from keras.preprocessing.image import ImageDataGenerator\n",
        "rescaled = ImageDataGenerator(1/255)\n",
        "train_fed = rescaled.flow_from_directory(\n",
        "    '/content/drive/Shareddrives/Research Collaboration/Image_Classification_Dataset/Training',\n",
        "                                target_size=(128,128),batch_size=32,class_mode= 'categorical') \n",
        "test_fed = rescaled.flow_from_directory(\n",
        "    '/content/drive/Shareddrives/Research Collaboration/Image_Classification_Dataset/Validation',\n",
        "                                target_size=(128,128),batch_size=32,class_mode= 'categorical')"
      ],
      "metadata": {
        "colab": {
          "base_uri": "https://localhost:8080/"
        },
        "id": "_JIzk-e1BOXt",
        "outputId": "262ea8a6-3e78-4d7b-9414-a9275bd1ea4c"
      },
      "execution_count": 23,
      "outputs": [
        {
          "output_type": "stream",
          "name": "stdout",
          "text": [
            "Found 4800 images belonging to 4 classes.\n",
            "Found 1200 images belonging to 4 classes.\n"
          ]
        }
      ]
    },
    {
      "cell_type": "code",
      "source": [
        "from tensorflow.keras.layers import Input,Flatten,Dense\n",
        "from tensorflow.keras.models import Model\n",
        "from tensorflow.keras.models import Sequential"
      ],
      "metadata": {
        "id": "tR6ad0vsBOSM"
      },
      "execution_count": 24,
      "outputs": []
    },
    {
      "cell_type": "code",
      "source": [
        "model = tf.keras.models.Sequential([tf.keras.layers.Conv2D(16,kernel_size=(3,3),activation = 'relu',input_shape = (128,128,3)),\n",
        "                                    tf.keras.layers.MaxPool2D(2,2), \n",
        "                                    \n",
        "                                    tf.keras.layers.Conv2D(32,kernel_size=(3,3),activation = 'relu'),\n",
        "                                    tf.keras.layers.MaxPool2D(2,2), \n",
        "\n",
        "                                    tf.keras.layers.Conv2D(64,kernel_size=(3,3),activation = 'relu'),\n",
        "                                    tf.keras.layers.MaxPool2D(2,2), \n",
        "\n",
        "                                    tf.keras.layers.Conv2D(128,kernel_size=(3,3),activation = 'relu'),\n",
        "                                    tf.keras.layers.MaxPool2D(2,2),\n",
        "\n",
        "                                    tf.keras.layers.Conv2D(256,kernel_size=(3,3),activation = 'relu'),\n",
        "                                    tf.keras.layers.MaxPool2D(2,2),                                  \n",
        "\n",
        "                                    tf.keras.layers.Flatten(),\n",
        "\n",
        "                                    tf.keras.layers.Dense(512,activation = 'relu'),\n",
        "                                    tf.keras.layers.Dropout(0.5),\n",
        "                                    tf.keras.layers.Dense(4,activation = 'softmax')\n",
        "                                    ])"
      ],
      "metadata": {
        "id": "iUrhyGfwBOLU"
      },
      "execution_count": 25,
      "outputs": []
    },
    {
      "cell_type": "code",
      "source": [
        "model.summary()"
      ],
      "metadata": {
        "colab": {
          "base_uri": "https://localhost:8080/"
        },
        "id": "ECEcAorBBOIa",
        "outputId": "01b837b0-8f39-4c2c-a97a-d34c4f05110a"
      },
      "execution_count": 26,
      "outputs": [
        {
          "output_type": "stream",
          "name": "stdout",
          "text": [
            "Model: \"sequential_3\"\n",
            "_________________________________________________________________\n",
            " Layer (type)                Output Shape              Param #   \n",
            "=================================================================\n",
            " conv2d_16 (Conv2D)          (None, 126, 126, 16)      448       \n",
            "                                                                 \n",
            " max_pooling2d_16 (MaxPoolin  (None, 63, 63, 16)       0         \n",
            " g2D)                                                            \n",
            "                                                                 \n",
            " conv2d_17 (Conv2D)          (None, 61, 61, 32)        4640      \n",
            "                                                                 \n",
            " max_pooling2d_17 (MaxPoolin  (None, 30, 30, 32)       0         \n",
            " g2D)                                                            \n",
            "                                                                 \n",
            " conv2d_18 (Conv2D)          (None, 28, 28, 64)        18496     \n",
            "                                                                 \n",
            " max_pooling2d_18 (MaxPoolin  (None, 14, 14, 64)       0         \n",
            " g2D)                                                            \n",
            "                                                                 \n",
            " conv2d_19 (Conv2D)          (None, 12, 12, 128)       73856     \n",
            "                                                                 \n",
            " max_pooling2d_19 (MaxPoolin  (None, 6, 6, 128)        0         \n",
            " g2D)                                                            \n",
            "                                                                 \n",
            " conv2d_20 (Conv2D)          (None, 4, 4, 256)         295168    \n",
            "                                                                 \n",
            " max_pooling2d_20 (MaxPoolin  (None, 2, 2, 256)        0         \n",
            " g2D)                                                            \n",
            "                                                                 \n",
            " flatten_3 (Flatten)         (None, 1024)              0         \n",
            "                                                                 \n",
            " dense_6 (Dense)             (None, 512)               524800    \n",
            "                                                                 \n",
            " dropout_19 (Dropout)        (None, 512)               0         \n",
            "                                                                 \n",
            " dense_7 (Dense)             (None, 4)                 2052      \n",
            "                                                                 \n",
            "=================================================================\n",
            "Total params: 919,460\n",
            "Trainable params: 919,460\n",
            "Non-trainable params: 0\n",
            "_________________________________________________________________\n"
          ]
        }
      ]
    },
    {
      "cell_type": "code",
      "source": [
        "from tensorflow.keras.optimizers import Adam\n",
        "model.compile(loss = 'categorical_crossentropy',optimizer = 'Adam',metrics = ['accuracy'])"
      ],
      "metadata": {
        "id": "2jf96vuRBOD9"
      },
      "execution_count": 27,
      "outputs": []
    },
    {
      "cell_type": "code",
      "source": [
        "from keras.callbacks import EarlyStopping,ModelCheckpoint,ReduceLROnPlateau\n",
        "import h5py"
      ],
      "metadata": {
        "id": "WTJbl51fBmfn"
      },
      "execution_count": 28,
      "outputs": []
    },
    {
      "cell_type": "code",
      "source": [
        "erl_stop = EarlyStopping(monitor = 'val_loss',patience = 3,restore_best_weights=True)\n",
        "mod_chk = ModelCheckpoint(\n",
        "    filepath='/content/drive/Shareddrives/Research Collaboration/Ferdous MSc Project/part two/my_model.hdf5',\n",
        "                          monitor = 'val_loss',save_best_only = True)\n",
        "lr_rate = ReduceLROnPlateau(monitor = 'val_loss',patience = 3,factor = 0.1)"
      ],
      "metadata": {
        "id": "wFT1BQdGBmai"
      },
      "execution_count": 29,
      "outputs": []
    },
    {
      "cell_type": "code",
      "source": [
        "hist = model.fit_generator(train_fed, shuffle = True, epochs=10, validation_data=test_fed,\n",
        "                           callbacks = [erl_stop,mod_chk,lr_rate],verbose = 2\n",
        "                           )"
      ],
      "metadata": {
        "colab": {
          "base_uri": "https://localhost:8080/"
        },
        "id": "831TNnqBBmWX",
        "outputId": "b10a4805-2d83-40a8-c768-e1557a69c798"
      },
      "execution_count": 30,
      "outputs": [
        {
          "output_type": "stream",
          "name": "stderr",
          "text": [
            "<ipython-input-30-da3407ffa4b4>:1: UserWarning: `Model.fit_generator` is deprecated and will be removed in a future version. Please use `Model.fit`, which supports generators.\n",
            "  hist = model.fit_generator(train_fed, shuffle = True, epochs=10, validation_data=test_fed,\n",
            "/usr/local/lib/python3.8/dist-packages/keras/preprocessing/image.py:1663: UserWarning: This ImageDataGenerator specifies `featurewise_center`, but it hasn't been fit on any training data. Fit it first by calling `.fit(numpy_data)`.\n",
            "  warnings.warn('This ImageDataGenerator specifies '\n"
          ]
        },
        {
          "output_type": "stream",
          "name": "stdout",
          "text": [
            "Epoch 1/10\n",
            "150/150 - 37s - loss: 1.8068 - accuracy: 0.6646 - val_loss: 0.5526 - val_accuracy: 0.7858 - lr: 0.0010 - 37s/epoch - 243ms/step\n",
            "Epoch 2/10\n",
            "150/150 - 35s - loss: 0.3052 - accuracy: 0.8935 - val_loss: 0.2433 - val_accuracy: 0.9058 - lr: 0.0010 - 35s/epoch - 233ms/step\n",
            "Epoch 3/10\n",
            "150/150 - 35s - loss: 0.1767 - accuracy: 0.9369 - val_loss: 0.2402 - val_accuracy: 0.9183 - lr: 0.0010 - 35s/epoch - 232ms/step\n",
            "Epoch 4/10\n",
            "150/150 - 36s - loss: 0.2194 - accuracy: 0.9240 - val_loss: 0.1762 - val_accuracy: 0.9333 - lr: 0.0010 - 36s/epoch - 241ms/step\n",
            "Epoch 5/10\n",
            "150/150 - 35s - loss: 0.1247 - accuracy: 0.9569 - val_loss: 0.1189 - val_accuracy: 0.9583 - lr: 0.0010 - 35s/epoch - 233ms/step\n",
            "Epoch 6/10\n",
            "150/150 - 35s - loss: 0.0697 - accuracy: 0.9735 - val_loss: 0.1174 - val_accuracy: 0.9600 - lr: 0.0010 - 35s/epoch - 234ms/step\n",
            "Epoch 7/10\n",
            "150/150 - 35s - loss: 0.0925 - accuracy: 0.9710 - val_loss: 0.0399 - val_accuracy: 0.9867 - lr: 0.0010 - 35s/epoch - 231ms/step\n",
            "Epoch 8/10\n",
            "150/150 - 35s - loss: 0.0736 - accuracy: 0.9756 - val_loss: 0.0830 - val_accuracy: 0.9692 - lr: 0.0010 - 35s/epoch - 232ms/step\n",
            "Epoch 9/10\n",
            "150/150 - 34s - loss: 0.0583 - accuracy: 0.9815 - val_loss: 0.1342 - val_accuracy: 0.9608 - lr: 0.0010 - 34s/epoch - 225ms/step\n",
            "Epoch 10/10\n",
            "150/150 - 34s - loss: 0.0637 - accuracy: 0.9783 - val_loss: 0.1849 - val_accuracy: 0.9408 - lr: 0.0010 - 34s/epoch - 223ms/step\n"
          ]
        }
      ]
    },
    {
      "cell_type": "code",
      "source": [
        "plt.plot(hist.history['loss'],color = 'blue',label = 'train')\n",
        "plt.plot(hist.history['val_loss'],color = 'orange',label = 'train')\n",
        "plt.grid(True)\n",
        "plt.title(\"Train & Test loss with epochs\\n\",fontsize = 16)\n",
        "plt.xlabel(\"Training Epochs\",fontsize= 12)\n",
        "plt.ylabel(\"Train & Test loss\",fontsize =12)\n",
        "plt.show()"
      ],
      "metadata": {
        "colab": {
          "base_uri": "https://localhost:8080/",
          "height": 318
        },
        "id": "pBVtA9cwBmRf",
        "outputId": "791d5eca-2cbb-478f-86cd-88f8515bec76"
      },
      "execution_count": 31,
      "outputs": [
        {
          "output_type": "display_data",
          "data": {
            "text/plain": [
              "<Figure size 432x288 with 1 Axes>"
            ],
            "image/png": "[encoded data removed]"
          },
          "metadata": {
            "needs_background": "light"
          }
        }
      ]
    },
    {
      "cell_type": "code",
      "source": [
        "plt.plot(hist.history['accuracy'],color = 'blue',label = 'train')\n",
        "plt.plot(hist.history['val_accuracy'],color = 'orange',label = 'train')\n",
        "plt.grid(True)\n",
        "plt.title(\"Train & Test accuracy with epochs\\n\",fontsize = 16)\n",
        "plt.xlabel(\"Training Epochs\",fontsize= 12)\n",
        "plt.ylabel(\"Train & Test accuracy\",fontsize =12)\n",
        "plt.show()"
      ],
      "metadata": {
        "colab": {
          "base_uri": "https://localhost:8080/",
          "height": 318
        },
        "id": "6rEJfHouB14m",
        "outputId": "b3ffc8d0-745a-4dbd-b771-d8dc3609d246"
      },
      "execution_count": 32,
      "outputs": [
        {
          "output_type": "display_data",
          "data": {
            "text/plain": [
              "<Figure size 432x288 with 1 Axes>"
            ],
            "image/png": "[encoded data removed]"
          },
          "metadata": {
            "needs_background": "light"
          }
        }
      ]
    },
    {
      "cell_type": "code",
      "source": [
        "acc = model.evaluate(test_fed,steps = len(test_fed),verbose = 2)\n",
        "print('%.2f'%(acc[1]*100))"
      ],
      "metadata": {
        "colab": {
          "base_uri": "https://localhost:8080/"
        },
        "id": "h4KhgdbyB1k1",
        "outputId": "eee33b35-cd7c-4ea2-ed89-1f36db6de8cc"
      },
      "execution_count": 33,
      "outputs": [
        {
          "output_type": "stream",
          "name": "stdout",
          "text": [
            "38/38 - 7s - loss: 0.0399 - accuracy: 0.9867 - 7s/epoch - 175ms/step\n",
            "98.67\n"
          ]
        }
      ]
    },
    {
      "cell_type": "code",
      "source": [
        "from sklearn.metrics import confusion_matrix,classification_report\n",
        "import numpy as np\n",
        "y_pred = hist.predict(train_fed)\n",
        "y_pred_classes = [np.argmax(element) for element in y_pred]\n",
        "print(\"Classification Report:\\n \",classification_report(test_fed,y_pred_classes))"
      ],
      "metadata": {
        "colab": {
          "base_uri": "https://localhost:8080/",
          "height": 235
        },
        "id": "DZfvuwgbCIxV",
        "outputId": "58d5d50b-563c-49d9-df05-1809c68c690f"
      },
      "execution_count": 34,
      "outputs": [
        {
          "output_type": "error",
          "ename": "AttributeError",
          "evalue": "ignored",
          "traceback": [
            "\u001b[0;31m---------------------------------------------------------------------------\u001b[0m",
            "\u001b[0;31mAttributeError\u001b[0m                            Traceback (most recent call last)",
            "\u001b[0;32m<ipython-input-34-eac7491ce6ed>\u001b[0m in \u001b[0;36m<module>\u001b[0;34m\u001b[0m\n\u001b[1;32m      1\u001b[0m \u001b[0;32mfrom\u001b[0m \u001b[0msklearn\u001b[0m\u001b[0;34m.\u001b[0m\u001b[0mmetrics\u001b[0m \u001b[0;32mimport\u001b[0m \u001b[0mconfusion_matrix\u001b[0m\u001b[0;34m,\u001b[0m\u001b[0mclassification_report\u001b[0m\u001b[0;34m\u001b[0m\u001b[0;34m\u001b[0m\u001b[0m\n\u001b[1;32m      2\u001b[0m \u001b[0;32mimport\u001b[0m \u001b[0mnumpy\u001b[0m \u001b[0;32mas\u001b[0m \u001b[0mnp\u001b[0m\u001b[0;34m\u001b[0m\u001b[0;34m\u001b[0m\u001b[0m\n\u001b[0;32m----> 3\u001b[0;31m \u001b[0my_pred\u001b[0m \u001b[0;34m=\u001b[0m \u001b[0mhist\u001b[0m\u001b[0;34m.\u001b[0m\u001b[0mpredict\u001b[0m\u001b[0;34m(\u001b[0m\u001b[0mtrain_fed\u001b[0m\u001b[0;34m)\u001b[0m\u001b[0;34m\u001b[0m\u001b[0;34m\u001b[0m\u001b[0m\n\u001b[0m\u001b[1;32m      4\u001b[0m \u001b[0my_pred_classes\u001b[0m \u001b[0;34m=\u001b[0m \u001b[0;34m[\u001b[0m\u001b[0mnp\u001b[0m\u001b[0;34m.\u001b[0m\u001b[0margmax\u001b[0m\u001b[0;34m(\u001b[0m\u001b[0melement\u001b[0m\u001b[0;34m)\u001b[0m \u001b[0;32mfor\u001b[0m \u001b[0melement\u001b[0m \u001b[0;32min\u001b[0m \u001b[0my_pred\u001b[0m\u001b[0;34m]\u001b[0m\u001b[0;34m\u001b[0m\u001b[0;34m\u001b[0m\u001b[0m\n\u001b[1;32m      5\u001b[0m \u001b[0mprint\u001b[0m\u001b[0;34m(\u001b[0m\u001b[0;34m\"Classification Report:\\n \"\u001b[0m\u001b[0;34m,\u001b[0m\u001b[0mclassification_report\u001b[0m\u001b[0;34m(\u001b[0m\u001b[0mtest_fed\u001b[0m\u001b[0;34m,\u001b[0m\u001b[0my_pred_classes\u001b[0m\u001b[0;34m)\u001b[0m\u001b[0;34m)\u001b[0m\u001b[0;34m\u001b[0m\u001b[0;34m\u001b[0m\u001b[0m\n",
            "\u001b[0;31mAttributeError\u001b[0m: 'History' object has no attribute 'predict'"
          ]
        }
      ]
    }
  ]
}